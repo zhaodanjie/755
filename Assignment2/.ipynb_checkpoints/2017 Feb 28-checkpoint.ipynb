{
 "cells": [
  {
   "cell_type": "markdown",
   "metadata": {},
   "source": [
    "# Classification\n",
    "\n",
    "Chapter 3. Classification of Hands-On Machine Learning with Scikit-Learn and TensorFlow\n",
    "- by Aurélien Géron\n",
    "- Published by O'Reilly Media, Inc., 2017\n",
    "\n",
    "### MA755 Machine Learning - 28 Feb 2017"
   ]
  },
  {
   "cell_type": "markdown",
   "metadata": {},
   "source": [
    "### Load required libraries and functions"
   ]
  },
  {
   "cell_type": "code",
   "execution_count": 1,
   "metadata": {
    "collapsed": false
   },
   "outputs": [
    {
     "name": "stderr",
     "output_type": "stream",
     "text": [
      "/opt/conda/lib/python3.5/site-packages/matplotlib/font_manager.py:273: UserWarning: Matplotlib is building the font cache using fc-list. This may take a moment.\n",
      "  warnings.warn('Matplotlib is building the font cache using fc-list. This may take a moment.')\n",
      "/opt/conda/lib/python3.5/site-packages/matplotlib/font_manager.py:273: UserWarning: Matplotlib is building the font cache using fc-list. This may take a moment.\n",
      "  warnings.warn('Matplotlib is building the font cache using fc-list. This may take a moment.')\n"
     ]
    }
   ],
   "source": [
    "import pickle\n",
    "import matplotlib\n",
    "import matplotlib.pyplot as plt\n",
    "import numpy             as np\n",
    "import pandas            as pd "
   ]
  },
  {
   "cell_type": "code",
   "execution_count": 2,
   "metadata": {
    "collapsed": false
   },
   "outputs": [],
   "source": [
    "%matplotlib inline"
   ]
  },
  {
   "cell_type": "code",
   "execution_count": 3,
   "metadata": {
    "collapsed": false
   },
   "outputs": [],
   "source": [
    "from sklearn.datasets.mldata import fetch_mldata\n",
    "from sklearn.model_selection import train_test_split\n",
    "from sklearn.model_selection import cross_val_score\n",
    "from sklearn.model_selection import cross_val_predict\n",
    "from sklearn.linear_model    import SGDClassifier\n",
    "from sklearn.linear_model    import LogisticRegression\n",
    "from sklearn.preprocessing   import LabelBinarizer\n",
    "from sklearn.preprocessing   import StandardScaler\n",
    "from sklearn.multiclass      import OneVsRestClassifier\n",
    "from sklearn.multiclass      import OneVsOneClassifier\n",
    "from sklearn.metrics         import confusion_matrix\n",
    "from sklearn.metrics         import roc_curve\n",
    "from sklearn.metrics         import roc_auc_score\n",
    "from sklearn.metrics         import recall_score\n",
    "from sklearn.metrics         import precision_score\n",
    "from scipy.stats             import describe\n",
    "from sklearn.calibration     import CalibratedClassifierCV\n"
   ]
  },
  {
   "cell_type": "markdown",
   "metadata": {},
   "source": [
    "### Read the MNIST dataset\n",
    "\n",
    "For background details and dataset source\n",
    "- http://yann.lecun.com/exdb/mnist/\n",
    "\n",
    "This dataset will be used in the deep learning portion of the course. "
   ]
  },
  {
   "cell_type": "markdown",
   "metadata": {},
   "source": [
    "When running this notebook for the first time change the following cell to a code cell and then run it. \n",
    "\n",
    "The two commands in that cell:\n",
    "- get the MNIST data using `fetch_mldata`\n",
    "- store the data locally in a pickle file"
   ]
  },
  {
   "cell_type": "markdown",
   "metadata": {
    "collapsed": false
   },
   "source": [
    "mnist = fetch_mldata('MNIST original')\n",
    "pickle.dump(mnist, open( \"mnist.p\", \"wb\" ))"
   ]
  },
  {
   "cell_type": "markdown",
   "metadata": {},
   "source": [
    "After you have run the previous command once, you can use the following command each time you use this notebook to load the dataset from the pickle file."
   ]
  },
  {
   "cell_type": "code",
   "execution_count": 4,
   "metadata": {
    "collapsed": false
   },
   "outputs": [],
   "source": [
    "mnist = pickle.load(open( \"mnist.p\", \"rb\" ))"
   ]
  },
  {
   "cell_type": "code",
   "execution_count": 5,
   "metadata": {
    "collapsed": false
   },
   "outputs": [
    {
     "name": "stdout",
     "output_type": "stream",
     "text": [
      "mnist.data.shape   (70000, 784)\n",
      "mnist.target.shape (70000,)\n"
     ]
    }
   ],
   "source": [
    "print(\"mnist.data.shape  \", mnist.data.shape)\n",
    "print(\"mnist.target.shape\", mnist.target.shape)"
   ]
  },
  {
   "cell_type": "code",
   "execution_count": 6,
   "metadata": {
    "collapsed": false
   },
   "outputs": [
    {
     "name": "stdout",
     "output_type": "stream",
     "text": [
      "Target values:  [0 1 2 3 4 5 6 7 8 9]\n",
      "  Data values:  [  0   1   2   3   4   5   6   7   8   9  10  11  12  13  14  15  16  17\n",
      "  18  19  20  21  22  23  24  25  26  27  28  29  30  31  32  33  34  35\n",
      "  36  37  38  39  40  41  42  43  44  45  46  47  48  49  50  51  52  53\n",
      "  54  55  56  57  58  59  60  61  62  63  64  65  66  67  68  69  70  71\n",
      "  72  73  74  75  76  77  78  79  80  81  82  83  84  85  86  87  88  89\n",
      "  90  91  92  93  94  95  96  97  98  99 100 101 102 103 104 105 106 107\n",
      " 108 109 110 111 112 113 114 115 116 117 118 119 120 121 122 123 124 125\n",
      " 126 127 128 129 130 131 132 133 134 135 136 137 138 139 140 141 142 143\n",
      " 144 145 146 147 148 149 150 151 152 153 154 155 156 157 158 159 160 161\n",
      " 162 163 164 165 166 167 168 169 170 171 172 173 174 175 176 177 178 179\n",
      " 180 181 182 183 184 185 186 187 188 189 190 191 192 193 194 195 196 197\n",
      " 198 199 200 201 202 203 204 205 206 207 208 209 210 211 212 213 214 215\n",
      " 216 217 218 219 220 221 222 223 224 225 226 227 228 229 230 231 232 233\n",
      " 234 235 236 237 238 239 240 241 242 243 244 245 246 247 248 249 250 251\n",
      " 252 253 254 255]\n"
     ]
    }
   ],
   "source": [
    "print(\"Target values: \", np.unique(mnist.target.astype(int)))\n",
    "print(\"  Data values: \", np.unique(mnist.data))"
   ]
  },
  {
   "cell_type": "code",
   "execution_count": 7,
   "metadata": {
    "collapsed": false
   },
   "outputs": [
    {
     "name": "stdout",
     "output_type": "stream",
     "text": [
      "5.0\n"
     ]
    },
    {
     "data": {
      "image/png": "[encoded data removed]",
      "text/plain": [
       "<matplotlib.figure.Figure at 0x7f88ea9e1470>"
      ]
     },
     "metadata": {},
     "output_type": "display_data"
    }
   ],
   "source": [
    "print(mnist.target[36000])\n",
    "plt.imshow(mnist.data[36000].reshape(28, 28), \n",
    "           cmap = matplotlib.cm.binary,\n",
    "           interpolation=\"nearest\")\n",
    "plt.axis(\"off\")\n",
    "plt.show()"
   ]
  },
  {
   "cell_type": "markdown",
   "metadata": {},
   "source": [
    "### Train and test datasets\n",
    "\n",
    "Our goal is to find the best predictive model on the given (mnist) dataset. \n",
    "\n",
    "The dataset should be split into a _training dataset_, a _validation dataset_ and a _testing dataset_ where:\n",
    "\n",
    "- The training dataset is used to create the models\n",
    "- Each model is evaluated on the validation dataset\n",
    "- The best model is then evaluated on the testing dataset\n",
    "\n",
    "The reason behind this splitting of the datasets is that a model shouldn't be evaluated on the same data used to create it. This applies in two cases:\n",
    "\n",
    "1. Each of the initial models, created from the training dataset, should be evaluated on different dataset (the training dataset) than were used to create it\n",
    "1. The best model was chosen by comparing it to many other models. This won't be the case when this model is used in practice. So we evaluate this (best) model on unseen data, which is the testing dataset\n",
    "\n",
    "For more details on this process see [Wikipedia](https://en.wikipedia.org/wiki/Test_set#Validation_set)."
   ]
  },
  {
   "cell_type": "markdown",
   "metadata": {},
   "source": [
    "We split the MNIST dataset into training datasets and testing datasets as follows. \n",
    "\n",
    "We have a single scaled dataset `mnist_data_scaled` of independent variables, which is split into a training dataset and a testing dataset. \n",
    "\n",
    "We have two target datasets:\n",
    "1. `mnist.target` which is an integer variable with values `0` through `9`\n",
    "1. `mnist_target_is5` which is a binary variable that is:\n",
    "    - 1 if the corresponding value in `mnist.target` is a `5` \n",
    "    - 0 if the corresponding value in `mnist.target` is not a `5`\n",
    "\n",
    "These training and testing datasets are created below. "
   ]
  },
  {
   "cell_type": "code",
   "execution_count": 8,
   "metadata": {
    "collapsed": false
   },
   "outputs": [
    {
     "data": {
      "text/plain": [
       "((56000, 784), (14000, 784), (56000,), (14000,))"
      ]
     },
     "execution_count": 8,
     "metadata": {},
     "output_type": "execute_result"
    }
   ],
   "source": [
    "mnist_data_scaled = StandardScaler().fit_transform(mnist.data.astype(float))\n",
    "mnist_target_is5  = (mnist.target==5).astype(int)\n",
    "\n",
    "(train_data,        test_data, \n",
    " train_target,      test_target, \n",
    ") = train_test_split(mnist_data_scaled,\n",
    "                     mnist_target_is5,\n",
    "                     test_size=0.2, \n",
    "                     random_state=42)\n",
    "\n",
    "(train_data.shape,        test_data.shape, \n",
    " train_target.shape,      test_target.shape,\n",
    ")"
   ]
  },
  {
   "cell_type": "markdown",
   "metadata": {},
   "source": [
    "## Logistic regression classifier\n",
    "\n",
    "A logistic regression model is a vector of coefficients, denoted as $\\theta$.\n",
    "\n",
    "- $m$ denotes the number of rows of the dataset.\n",
    "- $x$ denotes a vector of values for the independent variable (for a row.)\n",
    "- $y$ denotes a value for the binary dependent variable (for a row.)\n",
    "- $x^{(i)}$ denotes the vector of values for independent variables for row $i$\n",
    "- $y^{(i)}$ denotes the values of the dependent variable value for row $i$.\n",
    "\n",
    "The goal of a classifier is to make prediction and to minimize the error/cost of these predictions."
   ]
  },
  {
   "cell_type": "markdown",
   "metadata": {},
   "source": [
    "The _logistic_ of a vector of independent variable values is\n",
    "$$ \\hat{p} = \\sigma\\left( \\theta \\cdot x \\right)\n",
    "$$\n",
    "where $\\cdot$ is the dot product operation and \n",
    "$$\\sigma(t) = \\frac{1}{1 + e^{(-t)}}\n",
    "$$\n",
    "is called the sigmoid function. \n",
    "\n",
    "The prediction, given a set of coefficients $\\theta$, is denoted \n",
    "$$\\hat{y} = round\\left( \\hat{p} \\right)\n",
    "$$"
   ]
  },
  {
   "cell_type": "markdown",
   "metadata": {},
   "source": [
    "### Cost function\n",
    "\n",
    "The cost function for a single row (prediction) is \n",
    "$$c(\\theta, x) = \n",
    "\\begin{cases}\n",
    "   - \\log(\\hat{p})     & \\text{if } y = 1\n",
    "\\\\ - \\log(1 - \\hat{p}) & \\text{if } y = 0\n",
    "\\end{cases}$$\n",
    "\n",
    "The cost function over the entire training set (all $m$ cases) is\n",
    "$$J(\\theta) = - \\frac{1}{m} \\sum_{i=1}^{m} \\left[ \n",
    "    y^{(i)} \\log(\\hat{p}^{(i)}) + (1-y^{(i)}) \\log(1 - \\hat{p}^{(i)}) \n",
    "\\right]\n",
    "$$\n",
    "Note that this finds the cost of a model $\\theta$."
   ]
  },
  {
   "cell_type": "markdown",
   "metadata": {},
   "source": [
    "### Minimizing the cost function\n",
    "\n",
    "The function $J(\\theta)$ has a single absolute minimum. It is also convex, which means that we can always find this global minimum using stochastic gradient descent (below.)\n"
   ]
  },
  {
   "cell_type": "markdown",
   "metadata": {},
   "source": [
    "### Batch gradient descent\n",
    "\n",
    "Any random $\\theta$ vector is not likely to give the absolute mininum of the cost function $J(\\theta)$, but it is straightforward to find another value for $\\theta$ that provides a lesser value for $J(\\theta)$. Below let $n=m$ (the number of rows.)\n",
    "\n",
    "Each partial derivative of $J(\\theta)$ \n",
    "$$ \\frac{\\partial}{\\partial\\theta_j} J(\\theta) \n",
    "= \\frac{1}{n} \\sum_{i=1}^{n} \\left( \n",
    "\\sigma(\\theta^T \\cdot x^{(i)}) - y^{(i)}\n",
    "\\right)\n",
    "x^{(i)}_j\n",
    "$$\n",
    "indicates whether to increase or decrease the corresponding coefficient of $\\theta$ so that the cost function will decrease. \n",
    "\n",
    "New values of $\\theta$ are calculated as follows:\n",
    "$$ \\theta_j := \\theta_j - \\alpha \\frac{\\partial}{\\partial\\theta_j} J(\\theta)\n",
    "$$\n",
    "where $\\alpha$ (called the _learning rate_) is greater than `0` and often less than `1`. It's value determines how much to change $\\theta_j$. \n",
    "- It may take a long time to find the minimum if $\\alpha$ is too small\n",
    "- The minimum may be difficult to locate if $\\alpha$ is too large\n",
    "\n",
    "If the slope $\\frac{\\partial}{\\partial\\theta_j} J(\\theta)$ \n",
    "- is positive then decrease $\\theta_j$\n",
    "- is negative then increase $\\theta_j$\n",
    "\n",
    "Recall that\n",
    "- $m$ denotes the number of rows of the dataset\n",
    "- $x^{(i)}$ denotes the vector of values for the independent variables for row $i$\n",
    "- $y^{(i)}$ denotes the values for the dependent variable value for row $i$"
   ]
  },
  {
   "cell_type": "markdown",
   "metadata": {},
   "source": [
    "### Mini-batch and stochastic gradient descent\n",
    "\n",
    "The number of rows to use ($n$ above) can be decreased. \n",
    "\n",
    "When $n=1$ then we have \"stochastic gradient descent\". \n",
    "- Partial derivatives are computed for a row and $\\theta$ is modified accordingly\n",
    "- This process is repeated for each row of the dataset\n",
    "- When $\\theta$ reaches a minimum then the process stops\n",
    "\n",
    "When $1<n<m$ then we have \"mini-batch gradient descent.\" \n",
    "- Partial derivatives are computed for each batch of rows and $\\theta$ is modified accordingly\n",
    "- This process is repeated for each row of the dataset\n",
    "- When $\\theta$ reaches a minimum then the process stops"
   ]
  },
  {
   "cell_type": "markdown",
   "metadata": {},
   "source": [
    "### Create the classifier"
   ]
  },
  {
   "cell_type": "code",
   "execution_count": 9,
   "metadata": {
    "collapsed": false
   },
   "outputs": [],
   "source": [
    "log_clf = LogisticRegression(solver='liblinear',\n",
    "                             random_state=42)"
   ]
  },
  {
   "cell_type": "markdown",
   "metadata": {},
   "source": [
    "Create the model, which means determine $\\theta$"
   ]
  },
  {
   "cell_type": "code",
   "execution_count": 10,
   "metadata": {
    "collapsed": false
   },
   "outputs": [],
   "source": [
    "train_fit = log_clf.fit(train_data, \n",
    "                        train_target)"
   ]
  },
  {
   "cell_type": "markdown",
   "metadata": {},
   "source": [
    "Calculate the predictions, $\\hat{y} = round(\\hat{p})$"
   ]
  },
  {
   "cell_type": "code",
   "execution_count": 11,
   "metadata": {
    "collapsed": false
   },
   "outputs": [],
   "source": [
    "train_predict  = train_fit.predict(train_data)"
   ]
  },
  {
   "cell_type": "markdown",
   "metadata": {},
   "source": [
    "This implementation of logistic regression provides two addition pieces of information:\n",
    "\n",
    "1. The probabilities $\\hat{p}$\n",
    "1. Decision scores "
   ]
  },
  {
   "cell_type": "markdown",
   "metadata": {},
   "source": [
    "The probabilities are returned by the `predict_proba` method."
   ]
  },
  {
   "cell_type": "code",
   "execution_count": 12,
   "metadata": {
    "collapsed": false
   },
   "outputs": [],
   "source": [
    "train_proba    = train_fit.predict_proba(train_data)"
   ]
  },
  {
   "cell_type": "markdown",
   "metadata": {},
   "source": [
    "The decision scores are returned by the `decision_function` method."
   ]
  },
  {
   "cell_type": "code",
   "execution_count": 13,
   "metadata": {
    "collapsed": false
   },
   "outputs": [],
   "source": [
    "train_decision = train_fit.decision_function(train_data)"
   ]
  },
  {
   "cell_type": "markdown",
   "metadata": {
    "collapsed": false
   },
   "source": [
    "The following cell compares decision scores and predictions."
   ]
  },
  {
   "cell_type": "code",
   "execution_count": 14,
   "metadata": {
    "collapsed": false
   },
   "outputs": [
    {
     "data": {
      "text/plain": [
       "array([[51374,     0],\n",
       "       [    0,  4626]])"
      ]
     },
     "execution_count": 14,
     "metadata": {},
     "output_type": "execute_result"
    }
   ],
   "source": [
    "confusion_matrix(train_decision>0, train_predict       )"
   ]
  },
  {
   "cell_type": "markdown",
   "metadata": {
    "collapsed": false
   },
   "source": [
    "Notice that 1 is predicted if and only if the decision scores is greater than zero (`0`.)\n",
    "\n",
    "The following cell compares decision scores and probabilities"
   ]
  },
  {
   "cell_type": "code",
   "execution_count": 15,
   "metadata": {
    "collapsed": false
   },
   "outputs": [
    {
     "data": {
      "text/plain": [
       "array([[51374,     0],\n",
       "       [    0,  4626]])"
      ]
     },
     "execution_count": 15,
     "metadata": {},
     "output_type": "execute_result"
    }
   ],
   "source": [
    "confusion_matrix(train_decision>0, train_proba[:,1]>0.5)"
   ]
  },
  {
   "cell_type": "markdown",
   "metadata": {},
   "source": [
    "Notice that `1` is predicted if and only if the probability is greater than `0.5.`\n"
   ]
  },
  {
   "cell_type": "markdown",
   "metadata": {},
   "source": [
    "## Create stochastic gradient descent (logistic regression) classifier"
   ]
  },
  {
   "cell_type": "code",
   "execution_count": 21,
   "metadata": {
    "collapsed": true
   },
   "outputs": [],
   "source": [
    "sgd_clf = SGDClassifier(loss='log', alpha=0.1, random_state=42)"
   ]
  },
  {
   "cell_type": "code",
   "execution_count": 22,
   "metadata": {
    "collapsed": false
   },
   "outputs": [],
   "source": [
    "train_fit  = sgd_clf.fit(train_data, \n",
    "                         train_target)"
   ]
  },
  {
   "cell_type": "code",
   "execution_count": 23,
   "metadata": {
    "collapsed": true
   },
   "outputs": [],
   "source": [
    "test_predict = train_fit.predict(test_data)"
   ]
  },
  {
   "cell_type": "code",
   "execution_count": 24,
   "metadata": {
    "collapsed": false
   },
   "outputs": [],
   "source": [
    "test_proba    = train_fit.predict_proba(test_data)"
   ]
  },
  {
   "cell_type": "code",
   "execution_count": 25,
   "metadata": {
    "collapsed": false
   },
   "outputs": [],
   "source": [
    "test_decision = train_fit.decision_function(test_data)"
   ]
  },
  {
   "cell_type": "code",
   "execution_count": 26,
   "metadata": {
    "collapsed": false
   },
   "outputs": [
    {
     "name": "stdout",
     "output_type": "stream",
     "text": [
      "[[13394     0]\n",
      " [    0   606]] Compare decision scores and predictions\n",
      "[[13394     0]\n",
      " [    0   606]] Compare decision scores and probabilities\n"
     ]
    }
   ],
   "source": [
    "print(confusion_matrix(test_decision>0, test_predict       ), \"Compare decision scores and predictions\")\n",
    "print(confusion_matrix(test_decision>0, test_proba[:,1]>0.5), \"Compare decision scores and probabilities\")"
   ]
  },
  {
   "cell_type": "markdown",
   "metadata": {},
   "source": [
    "### Make predictions with a cross validiation classifier which uses a stochastic gradient descent logistic regression classifier"
   ]
  },
  {
   "cell_type": "markdown",
   "metadata": {},
   "source": [
    "Create vector of predictions using cross validation with three (3) folds."
   ]
  },
  {
   "cell_type": "code",
   "execution_count": 10,
   "metadata": {
    "collapsed": false
   },
   "outputs": [
    {
     "data": {
      "text/plain": [
       "(56000,)"
      ]
     },
     "execution_count": 10,
     "metadata": {},
     "output_type": "execute_result"
    }
   ],
   "source": [
    "train_predict = cross_val_predict(SGDClassifier(loss='log', alpha=0.1, random_state=42), \n",
    "                                  train_data, train_target, cv=3, method='predict')\n",
    "train_predict.shape"
   ]
  },
  {
   "cell_type": "markdown",
   "metadata": {},
   "source": [
    "Create matrix of probabilities"
   ]
  },
  {
   "cell_type": "code",
   "execution_count": 11,
   "metadata": {
    "collapsed": false
   },
   "outputs": [
    {
     "data": {
      "text/plain": [
       "(56000, 2)"
      ]
     },
     "execution_count": 11,
     "metadata": {},
     "output_type": "execute_result"
    }
   ],
   "source": [
    "train_proba = cross_val_predict(SGDClassifier(loss='log', alpha=0.1, random_state=42), \n",
    "                                  train_data, train_target, cv=3, method='predict_proba')\n",
    "train_proba.shape"
   ]
  },
  {
   "cell_type": "markdown",
   "metadata": {},
   "source": [
    "Verify that positive predictions correspond to probabilities over `0.5`."
   ]
  },
  {
   "cell_type": "code",
   "execution_count": 12,
   "metadata": {
    "collapsed": false
   },
   "outputs": [
    {
     "name": "stdout",
     "output_type": "stream",
     "text": [
      "[[53289     0]\n",
      " [    0  2711]] Compare predictions and probabilities with a confusing matrix\n"
     ]
    }
   ],
   "source": [
    "cm = confusion_matrix(train_predict, train_proba[:,1]>0.5)\n",
    "print(cm, \"Compare predictions and probabilities with a confusing matrix\")"
   ]
  },
  {
   "cell_type": "markdown",
   "metadata": {},
   "source": [
    "### Confusion matrix\n",
    "\n",
    "The confusion matrix is most commonly used to compare actual values with predictions.\n",
    "\n",
    "Below we compare `train_target` and `train_predict`."
   ]
  },
  {
   "cell_type": "code",
   "execution_count": 13,
   "metadata": {
    "collapsed": false
   },
   "outputs": [
    {
     "data": {
      "text/html": [
       "<div>\n",
       "<table border=\"1\" class=\"dataframe\">\n",
       "  <thead>\n",
       "    <tr style=\"text-align: right;\">\n",
       "      <th></th>\n",
       "      <th>0</th>\n",
       "      <th>1</th>\n",
       "    </tr>\n",
       "  </thead>\n",
       "  <tbody>\n",
       "    <tr>\n",
       "      <th>0</th>\n",
       "      <td>50766</td>\n",
       "      <td>207</td>\n",
       "    </tr>\n",
       "    <tr>\n",
       "      <th>1</th>\n",
       "      <td>2523</td>\n",
       "      <td>2504</td>\n",
       "    </tr>\n",
       "  </tbody>\n",
       "</table>\n",
       "</div>"
      ],
      "text/plain": [
       "       0     1\n",
       "0  50766   207\n",
       "1   2523  2504"
      ]
     },
     "execution_count": 13,
     "metadata": {},
     "output_type": "execute_result"
    }
   ],
   "source": [
    "pd.DataFrame(confusion_matrix(train_target, \n",
    "                              train_predict))"
   ]
  },
  {
   "cell_type": "markdown",
   "metadata": {},
   "source": [
    "- The rows correspond to actual values\n",
    "- The columns correspond to predictions\n",
    "- The cells are row counts"
   ]
  },
  {
   "cell_type": "markdown",
   "metadata": {},
   "source": [
    "### Precision and recall\n",
    "\n",
    "These concepts differentiate the proportion of positive predictions \n",
    "- out of all of the positive predictions (precision)\n",
    "- out of all of the actual positives (recall)"
   ]
  },
  {
   "cell_type": "markdown",
   "metadata": {},
   "source": [
    "\\begin{align}\n",
    "    precision & = \\frac{TP}{TP+FP}  = \\frac{\\text{correct positive predictions}}{\\text{positive predictions}} \n",
    "\\\\  recall    & = \\frac{TP}{TP+FN}  = \\frac{\\text{correct positive predictions}}{\\text{actual positives}}\n",
    "\\end{align}\n",
    "Where:\n",
    "- TP: true positive = positive prediction, actual positive (2504)\n",
    "- TN: true negative = negative prediction, actual negative (50766)\n",
    "- FP: false positive = positive prediction, actual negative (207)\n",
    "- FN: false negative = negative prediction, actual positive (2523)\n",
    "\n",
    "Counts in refer to the table above."
   ]
  },
  {
   "cell_type": "code",
   "execution_count": 14,
   "metadata": {
    "collapsed": false
   },
   "outputs": [
    {
     "name": "stdout",
     "output_type": "stream",
     "text": [
      "precision:  0.923644411656\n",
      "   recall:  0.498110204894\n"
     ]
    },
    {
     "data": {
      "text/plain": [
       "(1.0, 1.0)"
      ]
     },
     "execution_count": 14,
     "metadata": {},
     "output_type": "execute_result"
    }
   ],
   "source": [
    "print(\"precision: \",precision_score(train_target, train_predict))\n",
    "print(\"   recall: \",   recall_score(train_target, train_predict))\n",
    "cm[1,1] / sum(cm[:,1]), cm[1,1] / sum(cm[1,:])"
   ]
  },
  {
   "cell_type": "markdown",
   "metadata": {},
   "source": [
    "- Precision: 92% of positive predictions are correct\n",
    "- Recall: 50% of actual positives are identified as positive"
   ]
  },
  {
   "cell_type": "markdown",
   "metadata": {},
   "source": [
    "### Probabilities and ROC curve\n",
    "\n",
    "Some classifiers can return probabilities for each case (as shown above.)\n",
    "\n",
    "We repeat the cross-validation code from above. "
   ]
  },
  {
   "cell_type": "code",
   "execution_count": 38,
   "metadata": {
    "collapsed": false
   },
   "outputs": [
    {
     "data": {
      "text/plain": [
       "(56000, 2)"
      ]
     },
     "execution_count": 38,
     "metadata": {},
     "output_type": "execute_result"
    }
   ],
   "source": [
    "train_proba = cross_val_predict(SGDClassifier(loss='log', alpha=0.1, random_state=42), \n",
    "                                        train_data, train_target, \n",
    "                                        method='predict_proba', cv=3)\n",
    "train_proba.shape"
   ]
  },
  {
   "cell_type": "markdown",
   "metadata": {},
   "source": [
    "Retrieve the probabilities that any row is classified as `0` or `1`."
   ]
  },
  {
   "cell_type": "code",
   "execution_count": 15,
   "metadata": {
    "collapsed": true
   },
   "outputs": [],
   "source": [
    "train_proba_0 = train_proba[:,0]\n",
    "train_proba_1 = train_proba[:,1]"
   ]
  },
  {
   "cell_type": "markdown",
   "metadata": {},
   "source": [
    "Create vector of predictions using cross validation with three (3) folds."
   ]
  },
  {
   "cell_type": "code",
   "execution_count": 39,
   "metadata": {
    "collapsed": false
   },
   "outputs": [
    {
     "data": {
      "text/plain": [
       "(56000,)"
      ]
     },
     "execution_count": 39,
     "metadata": {},
     "output_type": "execute_result"
    }
   ],
   "source": [
    "train_predict = cross_val_predict(SGDClassifier(loss='log', alpha=0.1, random_state=42), \n",
    "                                  train_data, train_target, cv=3, method='predict')\n",
    "train_predict.shape"
   ]
  },
  {
   "cell_type": "code",
   "execution_count": 16,
   "metadata": {
    "collapsed": true
   },
   "outputs": [],
   "source": [
    "def tfpr(threshold, target, proba_1):\n",
    "    predict = (proba_1>threshold).astype(int)\n",
    "    cm = confusion_matrix(target, predict)\n",
    "    tp = cm[1,1]\n",
    "    tn = cm[0,0]\n",
    "    fp = cm[0,1]\n",
    "    fn = cm[1,0]\n",
    "    tpr = tp / (tp + fn)\n",
    "    fpr = fp / (fp + tn)\n",
    "    return(tpr, fpr)"
   ]
  },
  {
   "cell_type": "code",
   "execution_count": 20,
   "metadata": {
    "collapsed": false
   },
   "outputs": [
    {
     "data": {
      "text/plain": [
       "(0.49811020489357472, 0.0040609734565358133)"
      ]
     },
     "execution_count": 20,
     "metadata": {},
     "output_type": "execute_result"
    }
   ],
   "source": [
    "tfpr(0.5, train_target, train_predict)"
   ]
  },
  {
   "cell_type": "code",
   "execution_count": 23,
   "metadata": {
    "collapsed": false
   },
   "outputs": [],
   "source": [
    "tfpr_array = np.array([tfpr(x, train_target, train_proba_1) for x in list(np.arange(0.0,1.0,0.01))])"
   ]
  },
  {
   "cell_type": "code",
   "execution_count": 24,
   "metadata": {
    "collapsed": false
   },
   "outputs": [
    {
     "data": {
      "text/plain": [
       "<matplotlib.collections.PathCollection at 0x7f475db753c8>"
      ]
     },
     "execution_count": 24,
     "metadata": {},
     "output_type": "execute_result"
    },
    {
     "data": {
      "image/png": "[encoded data removed]",
      "text/plain": [
       "<matplotlib.figure.Figure at 0x7f475db9ac88>"
      ]
     },
     "metadata": {},
     "output_type": "display_data"
    }
   ],
   "source": [
    "plt.scatter(tfpr_array[:,1],tfpr_array[:,0])"
   ]
  },
  {
   "cell_type": "code",
   "execution_count": 9,
   "metadata": {
    "collapsed": false
   },
   "outputs": [
    {
     "ename": "NameError",
     "evalue": "name 'train_decision' is not defined",
     "output_type": "error",
     "traceback": [
      "\u001b[0;31m---------------------------------------------------------------------------\u001b[0m",
      "\u001b[0;31mNameError\u001b[0m                                 Traceback (most recent call last)",
      "\u001b[0;32m<ipython-input-9-7fec50dda576>\u001b[0m in \u001b[0;36m<module>\u001b[0;34m()\u001b[0m\n\u001b[0;32m----> 1\u001b[0;31m \u001b[0mfpr\u001b[0m\u001b[0;34m,\u001b[0m \u001b[0mtpr\u001b[0m\u001b[0;34m,\u001b[0m \u001b[0mthresholds\u001b[0m \u001b[0;34m=\u001b[0m \u001b[0mroc_curve\u001b[0m\u001b[0;34m(\u001b[0m\u001b[0mtrain_target\u001b[0m\u001b[0;34m,\u001b[0m \u001b[0mtrain_decision\u001b[0m\u001b[0;34m)\u001b[0m\u001b[0;34m\u001b[0m\u001b[0m\n\u001b[0m\u001b[1;32m      2\u001b[0m \u001b[0mfpr\u001b[0m\u001b[0;34m.\u001b[0m\u001b[0mshape\u001b[0m\u001b[0;34m,\u001b[0m \u001b[0mtpr\u001b[0m\u001b[0;34m.\u001b[0m\u001b[0mshape\u001b[0m\u001b[0;34m,\u001b[0m \u001b[0mthresholds\u001b[0m\u001b[0;34m.\u001b[0m\u001b[0mshape\u001b[0m\u001b[0;34m\u001b[0m\u001b[0m\n",
      "\u001b[0;31mNameError\u001b[0m: name 'train_decision' is not defined"
     ]
    }
   ],
   "source": [
    "fpr, tpr, thresholds = roc_curve(train_target, train_decision)\n",
    "fpr.shape, tpr.shape, thresholds.shape"
   ]
  },
  {
   "cell_type": "code",
   "execution_count": 71,
   "metadata": {
    "collapsed": false
   },
   "outputs": [
    {
     "data": {
      "text/plain": [
       "[<matplotlib.lines.Line2D at 0x7f97f4920dd8>]"
      ]
     },
     "execution_count": 71,
     "metadata": {},
     "output_type": "execute_result"
    },
    {
     "data": {
      "image/png": "[encoded data removed]",
      "text/plain": [
       "<matplotlib.figure.Figure at 0x7f97f49030f0>"
      ]
     },
     "metadata": {},
     "output_type": "display_data"
    }
   ],
   "source": [
    "plt.title(\"ROC curve\")\n",
    "plt.xlabel(\"true positive rate\")\n",
    "plt.ylabel(\"false positive rate\")\n",
    "plt.plot(fpr,tpr)"
   ]
  },
  {
   "cell_type": "code",
   "execution_count": 73,
   "metadata": {
    "collapsed": false
   },
   "outputs": [
    {
     "data": {
      "text/plain": [
       "0.96670627269874865"
      ]
     },
     "execution_count": 73,
     "metadata": {},
     "output_type": "execute_result"
    }
   ],
   "source": [
    "roc_auc_score(train_target, train_decision)"
   ]
  },
  {
   "cell_type": "markdown",
   "metadata": {},
   "source": [
    "### Appendix"
   ]
  },
  {
   "cell_type": "markdown",
   "metadata": {},
   "source": [
    "#### Normal equation\n",
    "\n",
    "$$\\hat{\\theta} = \\left( X^T \\cdot X \\right)^{-1} \\cdot X^T \\cdot y\n",
    "$$\n",
    "\n",
    "where:\n",
    "- $X$ denotes the two dimensional matrix of independent variables values for all rows\n",
    "- $y$ denotes the vector of dependent variable values\n",
    "\n",
    "This works well if there are not too many rows, but may take too much memory or take too long if there if there are many rows. In these cases one uses _stochastic gradient descent_."
   ]
  },
  {
   "cell_type": "markdown",
   "metadata": {},
   "source": [
    "#### Find classes with `predict_proba` methods"
   ]
  },
  {
   "cell_type": "code",
   "execution_count": null,
   "metadata": {
    "collapsed": true
   },
   "outputs": [],
   "source": [
    "from sklearn.utils.testing import all_estimators\n",
    "\n",
    "estimators = all_estimators()\n",
    "\n",
    "for name, class_ in estimators:\n",
    "    if hasattr(class_, 'predict_proba'):\n",
    "        print(name)"
   ]
  }
 ],
 "metadata": {
  "anaconda-cloud": {},
  "kernelspec": {
   "display_name": "Python [default]",
   "language": "python",
   "name": "python3"
  },
  "language_info": {
   "codemirror_mode": {
    "name": "ipython",
    "version": 3
   },
   "file_extension": ".py",
   "mimetype": "text/x-python",
   "name": "python",
   "nbconvert_exporter": "python",
   "pygments_lexer": "ipython3",
   "version": "3.5.2"
  }
 },
 "nbformat": 4,
 "nbformat_minor": 2
}
