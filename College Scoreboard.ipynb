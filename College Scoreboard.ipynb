{
 "cells": [
  {
   "cell_type": "markdown",
   "metadata": {},
   "source": [
    "# MA755 College Scoreboard"
   ]
  },
  {
   "cell_type": "markdown",
   "metadata": {},
   "source": [
    "Data Source:  \n",
    "Group Members: Stacy Li, Danjie Zhao, Sylvia Gao"
   ]
  },
  {
   "cell_type": "markdown",
   "metadata": {},
   "source": [
    "# Background"
   ]
  },
  {
   "cell_type": "markdown",
   "metadata": {},
   "source": [
    "# Data Exploration"
   ]
  },
  {
   "cell_type": "code",
   "execution_count": 1,
   "metadata": {
    "collapsed": true
   },
   "outputs": [],
   "source": [
    "import numpy as np\n",
    "import pandas as pd"
   ]
  },
  {
   "cell_type": "code",
   "execution_count": 2,
   "metadata": {
    "collapsed": true
   },
   "outputs": [],
   "source": [
    "data= pd.read_csv(\"data_modeling.csv\")"
   ]
  },
  {
   "cell_type": "code",
   "execution_count": 3,
   "metadata": {
    "collapsed": false
   },
   "outputs": [
    {
     "data": {
      "text/html": [
       "<div>\n",
       "<table border=\"1\" class=\"dataframe\">\n",
       "  <thead>\n",
       "    <tr style=\"text-align: right;\">\n",
       "      <th></th>\n",
       "      <th>Unnamed: 0</th>\n",
       "      <th>CampusID</th>\n",
       "      <th>InstitutionID</th>\n",
       "      <th>MedianFamilyIncome</th>\n",
       "      <th>DebtNonCompleter</th>\n",
       "      <th>PredominantDegree</th>\n",
       "      <th>State</th>\n",
       "      <th>FirstGen</th>\n",
       "      <th>IndPerc</th>\n",
       "      <th>LoanPerc</th>\n",
       "      <th>MDEarning10</th>\n",
       "      <th>Control</th>\n",
       "      <th>NetPrice</th>\n",
       "    </tr>\n",
       "  </thead>\n",
       "  <tbody>\n",
       "    <tr>\n",
       "      <th>0</th>\n",
       "      <td>0</td>\n",
       "      <td>100654</td>\n",
       "      <td>100200</td>\n",
       "      <td>22681.34069</td>\n",
       "      <td>10064.0</td>\n",
       "      <td>3</td>\n",
       "      <td>AL</td>\n",
       "      <td>0.369764</td>\n",
       "      <td>0.157669</td>\n",
       "      <td>0.7935</td>\n",
       "      <td>30300.0</td>\n",
       "      <td>1</td>\n",
       "      <td>11726.0</td>\n",
       "    </tr>\n",
       "    <tr>\n",
       "      <th>1</th>\n",
       "      <td>1</td>\n",
       "      <td>100663</td>\n",
       "      <td>105200</td>\n",
       "      <td>35359.88195</td>\n",
       "      <td>8650.0</td>\n",
       "      <td>3</td>\n",
       "      <td>AL</td>\n",
       "      <td>0.345912</td>\n",
       "      <td>0.330313</td>\n",
       "      <td>0.5529</td>\n",
       "      <td>39700.0</td>\n",
       "      <td>1</td>\n",
       "      <td>15123.0</td>\n",
       "    </tr>\n",
       "    <tr>\n",
       "      <th>2</th>\n",
       "      <td>2</td>\n",
       "      <td>100690</td>\n",
       "      <td>2503400</td>\n",
       "      <td>18409.75222</td>\n",
       "      <td>5644.5</td>\n",
       "      <td>3</td>\n",
       "      <td>AL</td>\n",
       "      <td>0.495726</td>\n",
       "      <td>0.907193</td>\n",
       "      <td>0.9679</td>\n",
       "      <td>40100.0</td>\n",
       "      <td>2</td>\n",
       "      <td>6927.0</td>\n",
       "    </tr>\n",
       "    <tr>\n",
       "      <th>3</th>\n",
       "      <td>3</td>\n",
       "      <td>100706</td>\n",
       "      <td>105500</td>\n",
       "      <td>33376.82879</td>\n",
       "      <td>8305.5</td>\n",
       "      <td>3</td>\n",
       "      <td>AL</td>\n",
       "      <td>0.324873</td>\n",
       "      <td>0.378065</td>\n",
       "      <td>0.4787</td>\n",
       "      <td>45500.0</td>\n",
       "      <td>1</td>\n",
       "      <td>11160.0</td>\n",
       "    </tr>\n",
       "    <tr>\n",
       "      <th>4</th>\n",
       "      <td>4</td>\n",
       "      <td>100724</td>\n",
       "      <td>100500</td>\n",
       "      <td>20444.53146</td>\n",
       "      <td>9500.0</td>\n",
       "      <td>3</td>\n",
       "      <td>AL</td>\n",
       "      <td>0.403549</td>\n",
       "      <td>0.180830</td>\n",
       "      <td>0.8157</td>\n",
       "      <td>26600.0</td>\n",
       "      <td>1</td>\n",
       "      <td>11029.0</td>\n",
       "    </tr>\n",
       "  </tbody>\n",
       "</table>\n",
       "</div>"
      ],
      "text/plain": [
       "   Unnamed: 0  CampusID  InstitutionID  MedianFamilyIncome  DebtNonCompleter  \\\n",
       "0           0    100654         100200         22681.34069           10064.0   \n",
       "1           1    100663         105200         35359.88195            8650.0   \n",
       "2           2    100690        2503400         18409.75222            5644.5   \n",
       "3           3    100706         105500         33376.82879            8305.5   \n",
       "4           4    100724         100500         20444.53146            9500.0   \n",
       "\n",
       "   PredominantDegree State  FirstGen   IndPerc  LoanPerc  MDEarning10  \\\n",
       "0                  3    AL  0.369764  0.157669    0.7935      30300.0   \n",
       "1                  3    AL  0.345912  0.330313    0.5529      39700.0   \n",
       "2                  3    AL  0.495726  0.907193    0.9679      40100.0   \n",
       "3                  3    AL  0.324873  0.378065    0.4787      45500.0   \n",
       "4                  3    AL  0.403549  0.180830    0.8157      26600.0   \n",
       "\n",
       "   Control  NetPrice  \n",
       "0        1   11726.0  \n",
       "1        1   15123.0  \n",
       "2        2    6927.0  \n",
       "3        1   11160.0  \n",
       "4        1   11029.0  "
      ]
     },
     "execution_count": 3,
     "metadata": {},
     "output_type": "execute_result"
    }
   ],
   "source": [
    "data.head()"
   ]
  },
  {
   "cell_type": "code",
   "execution_count": 5,
   "metadata": {
    "collapsed": false
   },
   "outputs": [
    {
     "name": "stdout",
     "output_type": "stream",
     "text": [
      "<class 'pandas.core.frame.DataFrame'>\n",
      "RangeIndex: 6050 entries, 0 to 6049\n",
      "Data columns (total 13 columns):\n",
      "Unnamed: 0            6050 non-null int64\n",
      "CampusID              6050 non-null int64\n",
      "InstitutionID         6050 non-null int64\n",
      "MedianFamilyIncome    6022 non-null float64\n",
      "DebtNonCompleter      5419 non-null float64\n",
      "PredominantDegree     6050 non-null int64\n",
      "State                 6050 non-null object\n",
      "FirstGen              5826 non-null float64\n",
      "IndPerc               5924 non-null float64\n",
      "LoanPerc              5618 non-null float64\n",
      "MDEarning10           6050 non-null float64\n",
      "Control               6050 non-null int64\n",
      "NetPrice              5411 non-null float64\n",
      "dtypes: float64(7), int64(5), object(1)\n",
      "memory usage: 614.5+ KB\n"
     ]
    }
   ],
   "source": [
    "data.info()"
   ]
  },
  {
   "cell_type": "code",
   "execution_count": 6,
   "metadata": {
    "collapsed": false
   },
   "outputs": [
    {
     "data": {
      "text/plain": [
       "Unnamed: 0             0.000000\n",
       "CampusID               0.000000\n",
       "InstitutionID          0.000000\n",
       "MedianFamilyIncome     0.462810\n",
       "DebtNonCompleter      10.429752\n",
       "PredominantDegree      0.000000\n",
       "State                  0.000000\n",
       "FirstGen               3.702479\n",
       "IndPerc                2.082645\n",
       "LoanPerc               7.140496\n",
       "MDEarning10            0.000000\n",
       "Control                0.000000\n",
       "NetPrice              10.561983\n",
       "dtype: float64"
      ]
     },
     "execution_count": 6,
     "metadata": {},
     "output_type": "execute_result"
    }
   ],
   "source": [
    "data.isnull().mean()*100"
   ]
  },
  {
   "cell_type": "markdown",
   "metadata": {},
   "source": [
    "# Data Preparation"
   ]
  },
  {
   "cell_type": "code",
   "execution_count": null,
   "metadata": {
    "collapsed": true
   },
   "outputs": [],
   "source": []
  },
  {
   "cell_type": "code",
   "execution_count": null,
   "metadata": {
    "collapsed": true
   },
   "outputs": [],
   "source": []
  },
  {
   "cell_type": "code",
   "execution_count": null,
   "metadata": {
    "collapsed": true
   },
   "outputs": [],
   "source": []
  },
  {
   "cell_type": "code",
   "execution_count": null,
   "metadata": {
    "collapsed": true
   },
   "outputs": [],
   "source": []
  },
  {
   "cell_type": "code",
   "execution_count": null,
   "metadata": {
    "collapsed": true
   },
   "outputs": [],
   "source": []
  },
  {
   "cell_type": "markdown",
   "metadata": {},
   "source": [
    "# Modeling"
   ]
  },
  {
   "cell_type": "code",
   "execution_count": null,
   "metadata": {
    "collapsed": true
   },
   "outputs": [],
   "source": []
  },
  {
   "cell_type": "code",
   "execution_count": null,
   "metadata": {
    "collapsed": true
   },
   "outputs": [],
   "source": []
  },
  {
   "cell_type": "code",
   "execution_count": null,
   "metadata": {
    "collapsed": true
   },
   "outputs": [],
   "source": []
  },
  {
   "cell_type": "code",
   "execution_count": null,
   "metadata": {
    "collapsed": true
   },
   "outputs": [],
   "source": []
  }
 ],
 "metadata": {
  "anaconda-cloud": {},
  "kernelspec": {
   "display_name": "Python [conda root]",
   "language": "python",
   "name": "conda-root-py"
  },
  "language_info": {
   "codemirror_mode": {
    "name": "ipython",
    "version": 3
   },
   "file_extension": ".py",
   "mimetype": "text/x-python",
   "name": "python",
   "nbconvert_exporter": "python",
   "pygments_lexer": "ipython3",
   "version": "3.5.2"
  }
 },
 "nbformat": 4,
 "nbformat_minor": 1
}
