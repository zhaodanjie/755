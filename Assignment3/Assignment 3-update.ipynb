{
 "cells": [
  {
   "cell_type": "markdown",
   "metadata": {},
   "source": [
    "# Assignment 3: PCA Analysis\n",
    "                Group members: Xiang (Stacy) Li, Danjie (Michelle) Zhao"
   ]
  },
  {
   "cell_type": "code",
   "execution_count": 152,
   "metadata": {
    "collapsed": false
   },
   "outputs": [],
   "source": [
    "#load required packages\n",
    "import pickle\n",
    "from sklearn.metrics         import confusion_matrix, classification_report, roc_curve, roc_auc_score\n",
    "from sklearn.model_selection import cross_val_predict\n",
    "from sklearn.base import clone\n",
    "from sklearn.ensemble import RandomForestClassifier\n",
    "import numpy as np\n",
    "from sklearn.preprocessing import StandardScaler\n",
    "from sklearn.pipeline import Pipeline\n",
    "import sklearn.preprocessing as sk_pp\n",
    "from sklearn.decomposition import PCA, KernelPCA\n",
    "import pandas as pd\n",
    "from sklearn.model_selection import GridSearchCV\n",
    "import matplotlib.pyplot as plt\n",
    "from sklearn.manifold import LocallyLinearEmbedding"
   ]
  },
  {
   "cell_type": "markdown",
   "metadata": {},
   "source": [
    "# 1. Data Preparation"
   ]
  },
  {
   "cell_type": "markdown",
   "metadata": {},
   "source": [
    "In assignment two, we used classification models to predict if the median earning of a school's students exceeds $30.6k. In this assignment, we will still use Random Forest Model to classify earnings. However, the dimensionality of the data will be reduced first. We want to know whether the reduction in dimensionality could increase the model accuracy.   \n",
    "\n",
    "Before we start, let's import the data and add flag variable as we did in assignment two."
   ]
  },
  {
   "cell_type": "code",
   "execution_count": 153,
   "metadata": {
    "collapsed": false
   },
   "outputs": [],
   "source": [
    "college = pickle.load(open(\"college.p\",\"rb\"))\n",
    "college_label = pickle.load(open(\"college_label.p\",\"rb\"))\n",
    "college_test = pickle.load(open(\"college_test.p\",\"rb\"))\n",
    "college_test_label = pickle.load(open(\"college_test_label.p\",\"rb\"))\n",
    "features = pd.read_csv('features.csv')#feature names"
   ]
  },
  {
   "cell_type": "code",
   "execution_count": 154,
   "metadata": {
    "collapsed": true
   },
   "outputs": [],
   "source": [
    "#find the median value\n",
    "quantiles = college_label.quantile(q=0.5)"
   ]
  },
  {
   "cell_type": "code",
   "execution_count": 155,
   "metadata": {
    "collapsed": true
   },
   "outputs": [],
   "source": [
    "#write a function to encode median earnings to dummy variable\n",
    "def median_code(data):\n",
    "    if data < quantiles:\n",
    "        return 0\n",
    "    else:\n",
    "        return 1"
   ]
  },
  {
   "cell_type": "code",
   "execution_count": 156,
   "metadata": {
    "collapsed": true
   },
   "outputs": [],
   "source": [
    "college_label_median = college_label.map(median_code)\n",
    "college_test_label_median = college_test_label.map(median_code)"
   ]
  },
  {
   "cell_type": "markdown",
   "metadata": {},
   "source": [
    "Before doing PCA, we first want to center the data so that the scale of variables won't influence the PCA result."
   ]
  },
  {
   "cell_type": "code",
   "execution_count": 157,
   "metadata": {
    "collapsed": true
   },
   "outputs": [],
   "source": [
    "college_centered = college - college.mean(axis=0)\n",
    "college_test_centered = college_test - college.mean(axis=0)"
   ]
  },
  {
   "cell_type": "markdown",
   "metadata": {},
   "source": [
    "# 2. Choosing the right number of dimensions"
   ]
  },
  {
   "cell_type": "markdown",
   "metadata": {},
   "source": [
    "We plan to use PCA in Scikit-Learn to implement PCA. There is a very important argument that we need to specify when using the PCA - the number of dimensions to reduce to. Instead of choosing an arbitrary number, we would like to choose the number of dimensions that add up to a sufficiently large portion of the variance."
   ]
  },
  {
   "cell_type": "code",
   "execution_count": 158,
   "metadata": {
    "collapsed": false
   },
   "outputs": [
    {
     "data": {
      "text/plain": [
       "PCA(copy=True, iterated_power='auto', n_components=None, random_state=None,\n",
       "  svd_solver='auto', tol=0.0, whiten=False)"
      ]
     },
     "execution_count": 158,
     "metadata": {},
     "output_type": "execute_result"
    }
   ],
   "source": [
    "pca = PCA()\n",
    "pca.fit(college_centered)"
   ]
  },
  {
   "cell_type": "code",
   "execution_count": 159,
   "metadata": {
    "collapsed": false
   },
   "outputs": [
    {
     "data": {
      "text/plain": [
       "array([ 0.39044101,  0.20941999,  0.07755925,  0.05390012,  0.03532041,\n",
       "        0.03255564,  0.02523042,  0.02201691,  0.01682056,  0.01401534])"
      ]
     },
     "execution_count": 159,
     "metadata": {},
     "output_type": "execute_result"
    }
   ],
   "source": [
    "pca.explained_variance_ratio_[0:10]"
   ]
  },
  {
   "cell_type": "markdown",
   "metadata": {},
   "source": [
    "The first two components explains about 60% of the variance of the original X variables. Let's take a closer look at these two components."
   ]
  },
  {
   "cell_type": "code",
   "execution_count": 160,
   "metadata": {
    "collapsed": false
   },
   "outputs": [
    {
     "name": "stdout",
     "output_type": "stream",
     "text": [
      "              Features        E1            E2\n",
      "0   MedianFamilyIncome  0.504568  8.814541e-02\n",
      "1     DebtNonCompleter  0.381319 -1.293074e-01\n",
      "2             FirstGen -0.486701 -1.324599e-01\n",
      "3              IndPerc -0.424426 -3.250677e-01\n",
      "4             LoanPerc  0.127373 -6.345740e-01\n",
      "5             NetPrice  0.258141 -5.676994e-01\n",
      "6                   AK -0.132719 -2.402558e-01\n",
      "7                   AL  0.147133 -1.423529e-02\n",
      "8                   AR -0.014414  2.544911e-01\n",
      "9                   AS -0.048196  4.528846e-02\n",
      "10                  AZ  0.195082  5.741809e-03\n",
      "11                  CA -0.138619 -3.349732e-02\n",
      "12                  CO  0.001959 -4.597992e-07\n",
      "13                  CT -0.010226 -1.753249e-02\n",
      "14                  DC -0.000237  4.754260e-04\n",
      "15                  DE  0.000304  3.375011e-03\n",
      "16                  FL -0.001362  3.846081e-03\n",
      "17                  FM -0.000044  4.012223e-04\n",
      "18                  GA -0.003924 -5.350365e-03\n",
      "19                  GU -0.010737 -3.199662e-03\n"
     ]
    }
   ],
   "source": [
    "E1, E2 = pd.DataFrame(pca.components_[0]), pd.DataFrame(pca.components_[1])\n",
    "eigenvectors = pd.concat([features,E1,E2],axis = 1)\n",
    "eigenvectors.columns = ['Features','E1','E2']\n",
    "print(eigenvectors.head(20))"
   ]
  },
  {
   "cell_type": "markdown",
   "metadata": {},
   "source": [
    "The first component is strongly correlated with `MedianFamilyIncome`, and `FirstGen`. To be more specific, the first component can be viewed as a measure of family impact. It increases as median family income increases, and as percentage of students who are the first one to receive higher education in their family decreases.   "
   ]
  },
  {
   "cell_type": "markdown",
   "metadata": {},
   "source": [
    "The second component is strongly correlated with `NetPrice` and `IndPerc`. This component can be viewed as a measure of the financial burden of students in that campus. If the campus has a low percent of financial independent student and high net price, indicating students have a relatively heavier financial burden, this component will have higher values."
   ]
  },
  {
   "cell_type": "markdown",
   "metadata": {},
   "source": [
    "Before applying PCA to predictive models, we need to find out the number of dimensions that add up to a sufficiently large portion of the variance. In our case, we want to know how many dimensions that could explain 90% and 95% of the variance. "
   ]
  },
  {
   "cell_type": "code",
   "execution_count": 161,
   "metadata": {
    "collapsed": false
   },
   "outputs": [],
   "source": [
    "cumsum = np.cumsum(pca.explained_variance_ratio_)"
   ]
  },
  {
   "cell_type": "code",
   "execution_count": 162,
   "metadata": {
    "collapsed": false
   },
   "outputs": [
    {
     "name": "stdout",
     "output_type": "stream",
     "text": [
      "13 25\n"
     ]
    }
   ],
   "source": [
    "d1 = np.argmax(cumsum >= 0.90) + 1\n",
    "d2 = np.argmax(cumsum >= 0.95) + 1\n",
    "print(d1, d2)"
   ]
  },
  {
   "cell_type": "markdown",
   "metadata": {},
   "source": [
    "Therefore, for the next step, we will build random forest models using 13 components and 25 components respectively."
   ]
  },
  {
   "cell_type": "markdown",
   "metadata": {},
   "source": [
    "# 3.  Random Forest Model with 13 components"
   ]
  },
  {
   "cell_type": "markdown",
   "metadata": {},
   "source": [
    "### 3.1 Random forest model with PCA"
   ]
  },
  {
   "cell_type": "code",
   "execution_count": 163,
   "metadata": {
    "collapsed": false
   },
   "outputs": [],
   "source": [
    "pca = PCA(n_components=d1, random_state = 42)\n",
    "college_reduced = pca.fit_transform(college_centered)\n",
    "rf_clf = RandomForestClassifier(random_state = 42)"
   ]
  },
  {
   "cell_type": "markdown",
   "metadata": {},
   "source": [
    "#### Performance comparison on the train set"
   ]
  },
  {
   "cell_type": "markdown",
   "metadata": {},
   "source": [
    "We would like to evaluate th model performance on training data."
   ]
  },
  {
   "cell_type": "code",
   "execution_count": 164,
   "metadata": {
    "collapsed": false
   },
   "outputs": [],
   "source": [
    "pred_rf_reduced = cross_val_predict(rf_clf, college_reduced, college_label_median, cv=3)\n",
    "pred_rf = cross_val_predict(rf_clf, college, college_label_median, cv=3)"
   ]
  },
  {
   "cell_type": "markdown",
   "metadata": {},
   "source": [
    "Then we compare the Random Forest model with 13 Principal Components with the model without PCA."
   ]
  },
  {
   "cell_type": "code",
   "execution_count": 165,
   "metadata": {
    "collapsed": false
   },
   "outputs": [
    {
     "name": "stdout",
     "output_type": "stream",
     "text": [
      "Random Forest with 13 PC\n",
      "             precision    recall  f1-score   support\n",
      "\n",
      "          0       0.77      0.85      0.81      2403\n",
      "          1       0.83      0.74      0.79      2404\n",
      "\n",
      "avg / total       0.80      0.80      0.80      4807\n",
      "\n",
      "Random Forest without PCA\n",
      "             precision    recall  f1-score   support\n",
      "\n",
      "          0       0.80      0.87      0.83      2403\n",
      "          1       0.86      0.78      0.82      2404\n",
      "\n",
      "avg / total       0.83      0.82      0.82      4807\n",
      "\n"
     ]
    }
   ],
   "source": [
    "print('Random Forest with 13 PC\\n' + classification_report(college_label_median, pred_rf_reduced))\n",
    "print('Random Forest without PCA\\n' + classification_report(college_label_median, pred_rf)) "
   ]
  },
  {
   "cell_type": "markdown",
   "metadata": {},
   "source": [
    "From the classification report, we can see that the random forest model without PCA outperforms the random forest model with PCA."
   ]
  },
  {
   "cell_type": "markdown",
   "metadata": {},
   "source": [
    "#### Performance comparison on the test set"
   ]
  },
  {
   "cell_type": "markdown",
   "metadata": {},
   "source": [
    "Next, we evaluate model performance on the testing data."
   ]
  },
  {
   "cell_type": "code",
   "execution_count": 166,
   "metadata": {
    "collapsed": false
   },
   "outputs": [],
   "source": [
    "college_test_reduced = pca.fit_transform(college_test_centered)\n",
    "rf_clf.fit(college_reduced, college_label_median)\n",
    "test_pred_reduced = rf_clf.predict(college_test_reduced)"
   ]
  },
  {
   "cell_type": "code",
   "execution_count": 167,
   "metadata": {
    "collapsed": true
   },
   "outputs": [],
   "source": [
    "rf_clf.fit(college, college_label_median)\n",
    "test_pred = rf_clf.predict(college_test)"
   ]
  },
  {
   "cell_type": "code",
   "execution_count": 168,
   "metadata": {
    "collapsed": false
   },
   "outputs": [
    {
     "name": "stdout",
     "output_type": "stream",
     "text": [
      "Random Forest with 13 PC\n",
      "             precision    recall  f1-score   support\n",
      "\n",
      "          0       0.69      0.69      0.69       612\n",
      "          1       0.70      0.70      0.70       631\n",
      "\n",
      "avg / total       0.70      0.70      0.70      1243\n",
      "\n",
      "Random Forest without PCA\n",
      "             precision    recall  f1-score   support\n",
      "\n",
      "          0       0.86      0.92      0.89       612\n",
      "          1       0.91      0.85      0.88       631\n",
      "\n",
      "avg / total       0.89      0.88      0.88      1243\n",
      "\n"
     ]
    }
   ],
   "source": [
    "print('Random Forest with 13 PC\\n' + classification_report(college_test_label_median,test_pred_reduced)) \n",
    "print('Random Forest without PCA\\n' + classification_report(college_test_label_median,test_pred)) "
   ]
  },
  {
   "cell_type": "markdown",
   "metadata": {},
   "source": [
    "The random forest model performs even worse on the test set when we apply PCA to it."
   ]
  },
  {
   "cell_type": "markdown",
   "metadata": {},
   "source": [
    "##  3.2 Random forest model with Kernel PCA"
   ]
  },
  {
   "cell_type": "markdown",
   "metadata": {},
   "source": [
    "In this part, the kernel PCA is applied to the random forest model. We will use grid search to select the kernel and hyperparameters that lead to the best performance.  The whole process can be separate into three steps:  \n",
    "\n",
    "1. Reduce dimensionality to 13 dimensions using KPCA, then applying random forest classifier for classification. \n",
    "2. Use GridSearchCV to find the best kernel and gamma value for KPCA in order to get the best classification accuracy.\n",
    "3. Evaluate the performance of model with the best parameter combination."
   ]
  },
  {
   "cell_type": "code",
   "execution_count": 169,
   "metadata": {
    "collapsed": false
   },
   "outputs": [
    {
     "data": {
      "text/plain": [
       "GridSearchCV(cv=3, error_score='raise',\n",
       "       estimator=Pipeline(steps=[('kpca', KernelPCA(alpha=1.0, coef0=1, copy_X=True, degree=3, eigen_solver='auto',\n",
       "     fit_inverse_transform=False, gamma=None, kernel='linear',\n",
       "     kernel_params=None, max_iter=None, n_components=13, n_jobs=1,\n",
       "     random_state=42, remove_zero_eig=False, tol=0)), ('rf_clf', RandomForestCla...stimators=10, n_jobs=1, oob_score=False, random_state=42,\n",
       "            verbose=0, warm_start=False))]),\n",
       "       fit_params={}, iid=True, n_jobs=1,\n",
       "       param_grid=[{'kpca__kernel': ['rbf', 'sigmoid', 'poly'], 'kpca__gamma': array([ 0.05 ,  0.075,  0.1  ,  0.125,  0.15 ])}],\n",
       "       pre_dispatch='2*n_jobs', refit=True, return_train_score=True,\n",
       "       scoring='accuracy', verbose=0)"
      ]
     },
     "execution_count": 169,
     "metadata": {},
     "output_type": "execute_result"
    }
   ],
   "source": [
    "clf = Pipeline([\n",
    "        ('kpca', KernelPCA(n_components=13, random_state = 42)),\n",
    "        ('rf_clf', RandomForestClassifier(random_state = 42))\n",
    "    ])\n",
    "\n",
    "param_grid = [{\n",
    "        \"kpca__gamma\" : np.linspace(0.05, 0.15, 5),\n",
    "        \"kpca__kernel\" :['rbf', 'sigmoid','poly']\n",
    "    }]\n",
    "\n",
    "grid_search = GridSearchCV(clf, param_grid, cv = 3, scoring = 'accuracy')\n",
    "grid_search.fit(college_centered, college_label_median)"
   ]
  },
  {
   "cell_type": "code",
   "execution_count": 170,
   "metadata": {
    "collapsed": false
   },
   "outputs": [
    {
     "name": "stdout",
     "output_type": "stream",
     "text": [
      "{'kpca__kernel': 'poly', 'kpca__gamma': 0.074999999999999997}\n"
     ]
    }
   ],
   "source": [
    "print(grid_search.best_params_)"
   ]
  },
  {
   "cell_type": "markdown",
   "metadata": {},
   "source": [
    "Let's use the above parameters to build a random forest model with kernal PCA applied on the training set."
   ]
  },
  {
   "cell_type": "code",
   "execution_count": 171,
   "metadata": {
    "collapsed": false,
    "scrolled": true
   },
   "outputs": [
    {
     "data": {
      "text/plain": [
       "Pipeline(steps=[('kpca', KernelPCA(alpha=1.0, coef0=1, copy_X=True, degree=3, eigen_solver='auto',\n",
       "     fit_inverse_transform=False, gamma=0.075, kernel='sigmoid',\n",
       "     kernel_params=None, max_iter=None, n_components=13, n_jobs=1,\n",
       "     random_state=42, remove_zero_eig=False, tol=0)), ('rf_clf', RandomForestC...stimators=10, n_jobs=1, oob_score=False, random_state=42,\n",
       "            verbose=0, warm_start=False))])"
      ]
     },
     "execution_count": 171,
     "metadata": {},
     "output_type": "execute_result"
    }
   ],
   "source": [
    "clf = Pipeline([\n",
    "        ('kpca', KernelPCA(n_components=13, random_state = 42, gamma=0.075, kernel='sigmoid')),\n",
    "        ('rf_clf', RandomForestClassifier(random_state = 42))\n",
    "    ])\n",
    "clf.fit(college_centered, college_label_median)"
   ]
  },
  {
   "cell_type": "markdown",
   "metadata": {},
   "source": [
    "** Performance on training set **"
   ]
  },
  {
   "cell_type": "code",
   "execution_count": 172,
   "metadata": {
    "collapsed": true
   },
   "outputs": [],
   "source": [
    "clf_pred = cross_val_predict(clf, college_centered, college_label_median)"
   ]
  },
  {
   "cell_type": "code",
   "execution_count": 173,
   "metadata": {
    "collapsed": false
   },
   "outputs": [
    {
     "name": "stdout",
     "output_type": "stream",
     "text": [
      "Random Forest with Kernel 13 PC\n",
      "             precision    recall  f1-score   support\n",
      "\n",
      "          0       0.78      0.85      0.81      2403\n",
      "          1       0.84      0.76      0.79      2404\n",
      "\n",
      "avg / total       0.81      0.80      0.80      4807\n",
      "\n",
      "Random Forest with 13 PC\n",
      "             precision    recall  f1-score   support\n",
      "\n",
      "          0       0.69      0.69      0.69       612\n",
      "          1       0.70      0.70      0.70       631\n",
      "\n",
      "avg / total       0.70      0.70      0.70      1243\n",
      "\n",
      "Random Forest without PCA\n",
      "             precision    recall  f1-score   support\n",
      "\n",
      "          0       0.86      0.92      0.89       612\n",
      "          1       0.91      0.85      0.88       631\n",
      "\n",
      "avg / total       0.89      0.88      0.88      1243\n",
      "\n"
     ]
    }
   ],
   "source": [
    "print('Random Forest with Kernel 13 PC\\n' + classification_report(college_label_median,clf_pred))\n",
    "print('Random Forest with 13 PC\\n' + classification_report(college_test_label_median,test_pred_reduced)) \n",
    "print('Random Forest without PCA\\n' + classification_report(college_test_label_median,test_pred)) "
   ]
  },
  {
   "cell_type": "markdown",
   "metadata": {},
   "source": [
    "The performance is still worse than the random forest model without kernel PCA."
   ]
  },
  {
   "cell_type": "markdown",
   "metadata": {},
   "source": [
    "** Performance on test set **"
   ]
  },
  {
   "cell_type": "code",
   "execution_count": 174,
   "metadata": {
    "collapsed": false
   },
   "outputs": [],
   "source": [
    "clf_pred_test = clf.predict(college_test_centered)"
   ]
  },
  {
   "cell_type": "code",
   "execution_count": 175,
   "metadata": {
    "collapsed": false
   },
   "outputs": [
    {
     "name": "stdout",
     "output_type": "stream",
     "text": [
      "Random Forest with Kernel 13 PC\n",
      "             precision    recall  f1-score   support\n",
      "\n",
      "          0       0.83      0.89      0.86       612\n",
      "          1       0.88      0.83      0.86       631\n",
      "\n",
      "avg / total       0.86      0.86      0.86      1243\n",
      "\n",
      "Random Forest with 13 PC\n",
      "             precision    recall  f1-score   support\n",
      "\n",
      "          0       0.69      0.69      0.69       612\n",
      "          1       0.70      0.70      0.70       631\n",
      "\n",
      "avg / total       0.70      0.70      0.70      1243\n",
      "\n",
      "Random Forest without PCA\n",
      "             precision    recall  f1-score   support\n",
      "\n",
      "          0       0.86      0.92      0.89       612\n",
      "          1       0.91      0.85      0.88       631\n",
      "\n",
      "avg / total       0.89      0.88      0.88      1243\n",
      "\n"
     ]
    }
   ],
   "source": [
    "print('Random Forest with Kernel 13 PC\\n' + classification_report(college_test_label_median,clf_pred_test))\n",
    "print('Random Forest with 13 PC\\n' + classification_report(college_test_label_median,test_pred_reduced)) \n",
    "print('Random Forest without PCA\\n' + classification_report(college_test_label_median,test_pred)) "
   ]
  },
  {
   "cell_type": "markdown",
   "metadata": {},
   "source": [
    "On the testing set, the kernel PCA works better than linear PCA in the random forest model. But random forest model with complete dimensionality is still the best model."
   ]
  },
  {
   "cell_type": "markdown",
   "metadata": {},
   "source": [
    "##  3.3 Random forest model with Locally Linear Embedding"
   ]
  },
  {
   "cell_type": "markdown",
   "metadata": {},
   "source": [
    "In the following part, we are going to use another commonly used dimension reduction technique Locally Linear Embedding to reduce the dimensionity of data. First, we use a grid search to help us find the optimal number of nerighbors."
   ]
  },
  {
   "cell_type": "code",
   "execution_count": 176,
   "metadata": {
    "collapsed": false
   },
   "outputs": [
    {
     "data": {
      "text/plain": [
       "GridSearchCV(cv=3, error_score='raise',\n",
       "       estimator=Pipeline(steps=[('lle', LocallyLinearEmbedding(eigen_solver='auto', hessian_tol=0.0001, max_iter=100,\n",
       "            method='standard', modified_tol=1e-12, n_components=13,\n",
       "            n_jobs=1, n_neighbors=5, neighbors_algorithm='auto',\n",
       "            random_state=None, reg=0.001, tol=1e-06)), ('rf_clf', RandomFo...stimators=10, n_jobs=1, oob_score=False, random_state=42,\n",
       "            verbose=0, warm_start=False))]),\n",
       "       fit_params={}, iid=True, n_jobs=1,\n",
       "       param_grid=[{'lle__n_neighbors': [50, 70, 90]}],\n",
       "       pre_dispatch='2*n_jobs', refit=True, return_train_score=True,\n",
       "       scoring='accuracy', verbose=0)"
      ]
     },
     "execution_count": 176,
     "metadata": {},
     "output_type": "execute_result"
    }
   ],
   "source": [
    "clf = Pipeline([\n",
    "        ('lle', LocallyLinearEmbedding(n_components=13)),\n",
    "        ('rf_clf', RandomForestClassifier(random_state = 42))\n",
    "    ])\n",
    "\n",
    "param_grid = [{\n",
    "        \"lle__n_neighbors\" : [50, 70, 90],\n",
    "    }]\n",
    "\n",
    "grid_search = GridSearchCV(clf, param_grid, cv = 3, scoring = 'accuracy')\n",
    "grid_search.fit(college_centered, college_label_median)"
   ]
  },
  {
   "cell_type": "code",
   "execution_count": 177,
   "metadata": {
    "collapsed": false
   },
   "outputs": [
    {
     "name": "stdout",
     "output_type": "stream",
     "text": [
      "{'lle__n_neighbors': 70}\n"
     ]
    }
   ],
   "source": [
    "print(grid_search.best_params_)"
   ]
  },
  {
   "cell_type": "markdown",
   "metadata": {},
   "source": [
    "The optimal number of nerighbors is 70."
   ]
  },
  {
   "cell_type": "markdown",
   "metadata": {},
   "source": [
    "** Performance on training set **"
   ]
  },
  {
   "cell_type": "markdown",
   "metadata": {},
   "source": [
    "Let's build a model using best parameter and then evaluate the performance on the training set."
   ]
  },
  {
   "cell_type": "code",
   "execution_count": 178,
   "metadata": {
    "collapsed": false
   },
   "outputs": [
    {
     "name": "stdout",
     "output_type": "stream",
     "text": [
      "Random Forest with LLE 13 PC\n",
      "             precision    recall  f1-score   support\n",
      "\n",
      "          0       0.72      0.83      0.77      2403\n",
      "          1       0.80      0.67      0.73      2404\n",
      "\n",
      "avg / total       0.76      0.75      0.75      4807\n",
      "\n"
     ]
    }
   ],
   "source": [
    "lle = LocallyLinearEmbedding(n_components=13, n_neighbors=70)\n",
    "X_reduced = lle.fit_transform(college_centered)\n",
    "\n",
    "rf_clf = RandomForestClassifier(random_state = 42)\n",
    "pred_rf_reduced_lle = cross_val_predict(rf_clf, X_reduced, college_label_median, cv=3)\n",
    "\n",
    "print('Random Forest with LLE 13 PC\\n' + classification_report(college_label_median, pred_rf_reduced_lle))"
   ]
  },
  {
   "cell_type": "markdown",
   "metadata": {},
   "source": [
    "From the classification report, we see that the Random Forest model with LLE performs worse than Kernal PCA and model without PCA, but better than model with baseline model (the one without Kernel)."
   ]
  },
  {
   "cell_type": "markdown",
   "metadata": {},
   "source": [
    "** Performance on testing set **"
   ]
  },
  {
   "cell_type": "code",
   "execution_count": 179,
   "metadata": {
    "collapsed": false
   },
   "outputs": [
    {
     "name": "stdout",
     "output_type": "stream",
     "text": [
      "Random Forest with 13 PC\n",
      "             precision    recall  f1-score   support\n",
      "\n",
      "          0       0.49      0.65      0.56       612\n",
      "          1       0.51      0.35      0.41       631\n",
      "\n",
      "avg / total       0.50      0.50      0.49      1243\n",
      "\n"
     ]
    }
   ],
   "source": [
    "college_test_reduced = lle.fit_transform(college_test_centered)\n",
    "rf_clf.fit(X_reduced, college_label_median)\n",
    "test_pred_reduced_lle = rf_clf.predict(college_test_reduced)\n",
    "print('Random Forest with 13 PC\\n' + classification_report(college_test_label_median, test_pred_reduced_lle))"
   ]
  },
  {
   "cell_type": "markdown",
   "metadata": {},
   "source": [
    "The Random Forest model with LLE badly on the testing set."
   ]
  },
  {
   "cell_type": "markdown",
   "metadata": {},
   "source": [
    "# 4. Random Forest Model with 25 components "
   ]
  },
  {
   "cell_type": "markdown",
   "metadata": {},
   "source": [
    "After building a random forest model with 13 principal conponents, we also would liket to see if the model accuracy will improve if we increase the number of principal components used."
   ]
  },
  {
   "cell_type": "markdown",
   "metadata": {
    "collapsed": true
   },
   "source": [
    "## 4.1 Ramdon Forest with PCA"
   ]
  },
  {
   "cell_type": "markdown",
   "metadata": {},
   "source": [
    "First of all, we transform original variables into 25 principal components."
   ]
  },
  {
   "cell_type": "code",
   "execution_count": 180,
   "metadata": {
    "collapsed": true
   },
   "outputs": [],
   "source": [
    "#25 components\n",
    "pca1 = PCA(n_components=d2, random_state = 42)\n",
    "college_reduced1 = pca1.fit_transform(college_centered)\n",
    "rf_clf1 = RandomForestClassifier(random_state = 42)"
   ]
  },
  {
   "cell_type": "markdown",
   "metadata": {},
   "source": [
    "### Performance comparison on training data"
   ]
  },
  {
   "cell_type": "markdown",
   "metadata": {},
   "source": [
    "Let'e evaluate the model performance on training data and compare the result with that of 13 principal components and that without principal component analysis."
   ]
  },
  {
   "cell_type": "code",
   "execution_count": 181,
   "metadata": {
    "collapsed": false
   },
   "outputs": [],
   "source": [
    "pred_rf_reduced1 = cross_val_predict(rf_clf1, college_reduced1, college_label_median, cv=3)"
   ]
  },
  {
   "cell_type": "code",
   "execution_count": 182,
   "metadata": {
    "collapsed": false
   },
   "outputs": [
    {
     "name": "stdout",
     "output_type": "stream",
     "text": [
      "Random Forest without PCA\n",
      "             precision    recall  f1-score   support\n",
      "\n",
      "          0       0.80      0.87      0.83      2403\n",
      "          1       0.86      0.78      0.82      2404\n",
      "\n",
      "avg / total       0.83      0.82      0.82      4807\n",
      "\n",
      "Random Forest with 13 PC\n",
      "             precision    recall  f1-score   support\n",
      "\n",
      "          0       0.72      0.83      0.77      2403\n",
      "          1       0.80      0.67      0.73      2404\n",
      "\n",
      "avg / total       0.76      0.75      0.75      4807\n",
      "\n",
      "Random Forest with 25 PC\n",
      "             precision    recall  f1-score   support\n",
      "\n",
      "          0       0.74      0.84      0.79      2403\n",
      "          1       0.82      0.70      0.75      2404\n",
      "\n",
      "avg / total       0.78      0.77      0.77      4807\n",
      "\n"
     ]
    }
   ],
   "source": [
    "print('Random Forest without PCA\\n' + classification_report(college_label_median, pred_rf))\n",
    "print('Random Forest with 13 PC\\n' + classification_report(college_label_median, pred_rf_reduced))\n",
    "print('Random Forest with 25 PC\\n' + classification_report(college_label_median, pred_rf_reduced1)) "
   ]
  },
  {
   "cell_type": "markdown",
   "metadata": {},
   "source": [
    "We see that models with 25 components performs worse than that with 13 components on the training data."
   ]
  },
  {
   "cell_type": "markdown",
   "metadata": {},
   "source": [
    "### Performance on testing data"
   ]
  },
  {
   "cell_type": "code",
   "execution_count": 183,
   "metadata": {
    "collapsed": false
   },
   "outputs": [],
   "source": [
    "college_test_reduced1 = pca1.fit_transform(college_test_centered)\n",
    "rf_clf1.fit(college_reduced1, college_label_median)\n",
    "test_pred_reduced1 = rf_clf1.predict(college_test_reduced1)"
   ]
  },
  {
   "cell_type": "code",
   "execution_count": 184,
   "metadata": {
    "collapsed": false
   },
   "outputs": [
    {
     "name": "stdout",
     "output_type": "stream",
     "text": [
      "Random Forest with 25 PC\n",
      "             precision    recall  f1-score   support\n",
      "\n",
      "          0       0.67      0.72      0.69       612\n",
      "          1       0.71      0.66      0.68       631\n",
      "\n",
      "avg / total       0.69      0.69      0.69      1243\n",
      "\n",
      "Random Forest with 13 PC\n",
      "             precision    recall  f1-score   support\n",
      "\n",
      "          0       0.49      0.65      0.56       612\n",
      "          1       0.51      0.35      0.41       631\n",
      "\n",
      "avg / total       0.50      0.50      0.49      1243\n",
      "\n",
      "Random Forest without PCA\n",
      "             precision    recall  f1-score   support\n",
      "\n",
      "          0       0.86      0.92      0.89       612\n",
      "          1       0.91      0.85      0.88       631\n",
      "\n",
      "avg / total       0.89      0.88      0.88      1243\n",
      "\n"
     ]
    }
   ],
   "source": [
    "print('Random Forest with 25 PC\\n' + classification_report(college_test_label_median,test_pred_reduced1))\n",
    "print('Random Forest with 13 PC\\n' + classification_report(college_test_label_median,test_pred_reduced))\n",
    "print('Random Forest without PCA\\n' + classification_report(college_test_label_median,test_pred))"
   ]
  },
  {
   "cell_type": "markdown",
   "metadata": {},
   "source": [
    "Similarly, the 25-component solution has worse performance than the 13-component solution and the model without PCA. Then let's see if using Kernal PCA is going to improve the performance."
   ]
  },
  {
   "cell_type": "markdown",
   "metadata": {},
   "source": [
    "### 4.2 Random forest model with Kernel PCA"
   ]
  },
  {
   "cell_type": "markdown",
   "metadata": {},
   "source": [
    "We will do Kernal PCA with 25 components and use GridSearchCV to find the best kernel and gamma value."
   ]
  },
  {
   "cell_type": "code",
   "execution_count": null,
   "metadata": {
    "collapsed": false
   },
   "outputs": [],
   "source": [
    "clf1 = Pipeline([\n",
    "        ('kpca', KernelPCA(n_components=25, random_state = 42)),\n",
    "        ('rf_clf', RandomForestClassifier(random_state = 42))\n",
    "    ])\n",
    "\n",
    "param_grid1 = [{\n",
    "        \"kpca__gamma\" : np.linspace(0.05, 0.15, 5),\n",
    "        \"kpca__kernel\" :['rbf', 'sigmoid','poly']\n",
    "    }]\n",
    "\n",
    "grid_search1 = GridSearchCV(clf1, param_grid1, cv = 3, scoring = 'accuracy')\n",
    "grid_search1.fit(college_reduced, college_label_median)"
   ]
  },
  {
   "cell_type": "code",
   "execution_count": null,
   "metadata": {
    "collapsed": false
   },
   "outputs": [],
   "source": [
    "print(grid_search1.best_params_)"
   ]
  },
  {
   "cell_type": "markdown",
   "metadata": {},
   "source": [
    "The best kernel is `poly` and the best gamma value is `0.15`. Then we build a random forest model with the best parameters."
   ]
  },
  {
   "cell_type": "code",
   "execution_count": null,
   "metadata": {
    "collapsed": false
   },
   "outputs": [],
   "source": [
    "clf1 = Pipeline([\n",
    "        ('kpca', KernelPCA(n_components=25, random_state = 42, gamma=0.15, kernel='poly')),\n",
    "        ('rf_clf', RandomForestClassifier(random_state = 42))\n",
    "    ])\n",
    "clf1.fit(college_centered, college_label_median)"
   ]
  },
  {
   "cell_type": "code",
   "execution_count": null,
   "metadata": {
    "collapsed": false
   },
   "outputs": [],
   "source": [
    "clf_pred1 = cross_val_predict(clf1, college_centered, college_label_median)"
   ]
  },
  {
   "cell_type": "code",
   "execution_count": null,
   "metadata": {
    "collapsed": false
   },
   "outputs": [],
   "source": [
    "print('Random Forest with Kernel 25 PC\\n' + classification_report(college_label_median, clf_pred1)) \n",
    "print('Random Forest with 25 PC\\n' + classification_report(college_label_median, pred_rf_reduced1))\n",
    "print('Random Forest with Kernel 13 PC\\n' + classification_report(college_label_median,clf_pred))\n",
    "print('Random Forest without PCA\\n' + classification_report(college_label_median, pred_rf))"
   ]
  },
  {
   "cell_type": "markdown",
   "metadata": {},
   "source": [
    "The performance of model with 25 components using Kernel PCA is better than PCA without Kernel and it performs as well as 13-component solution with kernel. Still, the random forest model without PCA is the best model."
   ]
  },
  {
   "cell_type": "code",
   "execution_count": null,
   "metadata": {
    "collapsed": false
   },
   "outputs": [],
   "source": [
    "clf_pred_test1 = clf1.predict(college_test_centered)\n",
    "print('Random Forest with Kernel 25 PC\\n' + classification_report(college_test_label_median,clf_pred_test1))\n",
    "print('Random Forest with 25 PC\\n' + classification_report(college_test_label_median,test_pred_reduced1))\n",
    "print('Random Forest without PCA\\n' + classification_report(college_test_label_median,test_pred))\n",
    "print('Random Forest with Kernel 13 PC\\n' + classification_report(college_test_label_median,clf_pred_test))"
   ]
  },
  {
   "cell_type": "markdown",
   "metadata": {},
   "source": [
    "We see similar performance on the testing data. The 25-component solution with Kernel is better than the solution without kernel but still worse than the model without PCA."
   ]
  },
  {
   "cell_type": "markdown",
   "metadata": {},
   "source": [
    "## 4.3 Random forest model with Locally Linear Embedding"
   ]
  },
  {
   "cell_type": "markdown",
   "metadata": {},
   "source": [
    "We also apply Locally Linear Embedding to create 25 components as input of the Random Forest Model."
   ]
  },
  {
   "cell_type": "code",
   "execution_count": 113,
   "metadata": {
    "collapsed": false
   },
   "outputs": [
    {
     "data": {
      "text/plain": [
       "GridSearchCV(cv=3, error_score='raise',\n",
       "       estimator=Pipeline(steps=[('lle', LocallyLinearEmbedding(eigen_solver='auto', hessian_tol=0.0001, max_iter=100,\n",
       "            method='standard', modified_tol=1e-12, n_components=25,\n",
       "            n_jobs=1, n_neighbors=40, neighbors_algorithm='auto',\n",
       "            random_state=None, reg=0.001, tol=1e-06)), ('rf_clf', RandomF...stimators=10, n_jobs=1, oob_score=False, random_state=42,\n",
       "            verbose=0, warm_start=False))]),\n",
       "       fit_params={}, iid=True, n_jobs=1,\n",
       "       param_grid=[{'lle__n_neighbors': [50, 70, 90]}],\n",
       "       pre_dispatch='2*n_jobs', refit=True, return_train_score=True,\n",
       "       scoring='accuracy', verbose=0)"
      ]
     },
     "execution_count": 113,
     "metadata": {},
     "output_type": "execute_result"
    }
   ],
   "source": [
    "clf = Pipeline([\n",
    "        ('lle', LocallyLinearEmbedding(n_components=25, n_neighbors=40)),\n",
    "        ('rf_clf', RandomForestClassifier(random_state = 42))\n",
    "    ])\n",
    "\n",
    "param_grid = [{\n",
    "        \"lle__n_neighbors\" : [50, 70, 90],\n",
    "    }]\n",
    "\n",
    "grid_search = GridSearchCV(clf, param_grid, cv = 3, scoring = 'accuracy')\n",
    "grid_search.fit(college_centered, college_label_median)"
   ]
  },
  {
   "cell_type": "markdown",
   "metadata": {},
   "source": [
    "The optimal number fo neighbors is 70."
   ]
  },
  {
   "cell_type": "code",
   "execution_count": 115,
   "metadata": {
    "collapsed": false
   },
   "outputs": [
    {
     "name": "stdout",
     "output_type": "stream",
     "text": [
      "{'lle__n_neighbors': 70}\n"
     ]
    }
   ],
   "source": [
    "print(grid_search.best_params_)"
   ]
  },
  {
   "cell_type": "markdown",
   "metadata": {},
   "source": [
    "**Performance on the training set**"
   ]
  },
  {
   "cell_type": "markdown",
   "metadata": {},
   "source": [
    "After finding the best parameter, let's evaluate the model performance on training data set."
   ]
  },
  {
   "cell_type": "code",
   "execution_count": 116,
   "metadata": {
    "collapsed": false
   },
   "outputs": [
    {
     "name": "stdout",
     "output_type": "stream",
     "text": [
      "Random Forest with 13 PC\n",
      "             precision    recall  f1-score   support\n",
      "\n",
      "          0       0.72      0.84      0.77      2403\n",
      "          1       0.81      0.68      0.73      2404\n",
      "\n",
      "avg / total       0.76      0.76      0.75      4807\n",
      "\n"
     ]
    }
   ],
   "source": [
    "from sklearn.manifold import LocallyLinearEmbedding\n",
    "\n",
    "lle = LocallyLinearEmbedding(n_components=25, n_neighbors=70)\n",
    "X_reduced = lle.fit_transform(college_centered)\n",
    "\n",
    "rf_clf = RandomForestClassifier(random_state = 42)\n",
    "pred_rf_reduced_lle = cross_val_predict(rf_clf, X_reduced, college_label_median, cv=3)\n",
    "\n",
    "print('Random Forest with LLE 25 PC on training\\n' + classification_report(college_label_median, pred_rf_reduced_lle))"
   ]
  },
  {
   "cell_type": "markdown",
   "metadata": {},
   "source": [
    "**Performance on the testing set**"
   ]
  },
  {
   "cell_type": "code",
   "execution_count": 117,
   "metadata": {
    "collapsed": false
   },
   "outputs": [
    {
     "name": "stdout",
     "output_type": "stream",
     "text": [
      "Random Forest with 13 PC\n",
      "             precision    recall  f1-score   support\n",
      "\n",
      "          0       0.51      0.71      0.59       612\n",
      "          1       0.54      0.33      0.41       631\n",
      "\n",
      "avg / total       0.52      0.52      0.50      1243\n",
      "\n"
     ]
    }
   ],
   "source": [
    "college_test_reduced = lle.fit_transform(college_test_centered)\n",
    "rf_clf.fit(X_reduced, college_label_median)\n",
    "test_pred_reduced_lle = rf_clf.predict(college_test_reduced)\n",
    "print('Random Forest with LLE 25 PC on testing\\n' + classification_report(college_test_label_median, test_pred_reduced_lle))"
   ]
  },
  {
   "cell_type": "markdown",
   "metadata": {},
   "source": [
    "# 5. How will model accuracy change when we  use more components"
   ]
  },
  {
   "cell_type": "markdown",
   "metadata": {},
   "source": [
    "From the above analysis, we see that as the number of components used increase, the model accuracy decreases. Is it always the case? Let's create a plot to show how the model performance change when we increase the number of components used."
   ]
  },
  {
   "cell_type": "code",
   "execution_count": 134,
   "metadata": {
    "collapsed": false,
    "scrolled": true
   },
   "outputs": [
    {
     "data": {
      "image/png": "[encoded data removed]",
      "text/plain": [
       "<matplotlib.figure.Figure at 0x113375278>"
      ]
     },
     "metadata": {},
     "output_type": "display_data"
    }
   ],
   "source": [
    "f1_set = []\n",
    "f1_test_set = []\n",
    "for i in range(1,50):\n",
    "    pca = PCA(n_components=i, random_state = 42)\n",
    "    college_reduced = pca.fit_transform(college_centered)\n",
    "    rf_clf = RandomForestClassifier(random_state = 42)\n",
    "    pred_rf_reduced = cross_val_predict(rf_clf, college_reduced, college_label_median, cv=3)\n",
    "    f1 = f1_score(college_label_median, pred_rf_reduced)\n",
    "    f1_set.append(f1)\n",
    "    \n",
    "plt.plot(range(1,50), f1_set)\n",
    "plt.show()"
   ]
  },
  {
   "cell_type": "markdown",
   "metadata": {},
   "source": [
    "The plot above shows how the cross-validation error changes as the number of components used increases. We notice that when the number of components used is less than 9, using more components will increase model accuracy. But as the number of components continues to increase, the performance of model starts decrease and become unstable."
   ]
  },
  {
   "cell_type": "markdown",
   "metadata": {},
   "source": [
    "# 5. Conclusion"
   ]
  },
  {
   "cell_type": "markdown",
   "metadata": {},
   "source": [
    "From the analysis above, we see that performing PCA doesn't necessarily improve the performance of the model in this specific case. \n",
    "\n",
    "We use 13 components and 25 components to build random forest models and the 13-component solution seems to perform better than 25-component solution. Also, doing PCA with Kernel improves the the accuracy of the model. Although PCA doesn't increase the model accuracy in this specific case. It gives us a better understanding of how factors relate to each other and helps reduce the model complexity. \n",
    "\n",
    "With further research, we realize that PCA is not always a good method to use when building predictive model. It could increase the performance in some cases but could decrease model performance in other cases. We should always consider using the original data first. The conclusion is that we had better use PCA when the dimension of data is large and we want to reduce the variables to boost the training speed and decrease model complexity."
   ]
  },
  {
   "cell_type": "markdown",
   "metadata": {},
   "source": [
    "The end."
   ]
  }
 ],
 "metadata": {
  "anaconda-cloud": {},
  "kernelspec": {
   "display_name": "Python [default]",
   "language": "python",
   "name": "python3"
  },
  "language_info": {
   "codemirror_mode": {
    "name": "ipython",
    "version": 3
   },
   "file_extension": ".py",
   "mimetype": "text/x-python",
   "name": "python",
   "nbconvert_exporter": "python",
   "pygments_lexer": "ipython3",
   "version": "3.5.2"
  }
 },
 "nbformat": 4,
 "nbformat_minor": 1
}
